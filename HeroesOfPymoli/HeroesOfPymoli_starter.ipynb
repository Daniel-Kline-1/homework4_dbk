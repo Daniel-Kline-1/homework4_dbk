{
 "cells": [
  {
   "cell_type": "markdown",
   "metadata": {},
   "source": [
    "### Heroes Of Pymoli Data Analysis\n",
    "* Of the 1163 active players, the vast majority are male (84%). There also exists, a smaller, but notable proportion of female players (14%).\n",
    "\n",
    "* Our peak age demographic falls between 20-24 (44.8%) with secondary groups falling between 15-19 (18.60%) and 25-29 (13.4%).  \n",
    "-----"
   ]
  },
  {
   "cell_type": "markdown",
   "metadata": {},
   "source": [
    "### Note\n",
    "* Instructions have been included for each segment. You do not have to follow them exactly, but they are included to help you think through the steps."
   ]
  },
  {
   "cell_type": "code",
   "execution_count": null,
   "metadata": {},
   "outputs": [],
   "source": [
    "# Dependencies and Setup\n",
    "import pandas as pd\n",
    "import numpy as np\n",
    "import os\n",
    "import csv\n",
    "# File to Load (Remember to Change These)\n",
    "file_to_load = \"Resources/purchase_data.csv\"\n",
    "\n",
    "# Read Purchasing File and store into Pandas data frame\n",
    "purchase_data = pd.read_csv(file_to_load)\n"
   ]
  },
  {
   "cell_type": "code",
   "execution_count": null,
   "metadata": {},
   "outputs": [],
   "source": [
    "purchase_data.head()"
   ]
  },
  {
   "cell_type": "markdown",
   "metadata": {},
   "source": [
    "## Player Count"
   ]
  },
  {
   "cell_type": "markdown",
   "metadata": {},
   "source": [
    "* Display the total number of players\n"
   ]
  },
  {
   "cell_type": "code",
   "execution_count": null,
   "metadata": {},
   "outputs": [],
   "source": [
    "totalnumberplayers = len(purchase_data[\"SN\"].unique())\n",
    "tnp = totalnumberplayers\n",
    "print(\"The total amount of players is \" + str(tnp))\n",
    "tnpfull = len(purchase_data)\n"
   ]
  },
  {
   "cell_type": "markdown",
   "metadata": {},
   "source": [
    "## Purchasing Analysis (Total)"
   ]
  },
  {
   "cell_type": "markdown",
   "metadata": {},
   "source": [
    "* Run basic calculations to obtain number of unique items, average price, etc.\n",
    "\n",
    "\n",
    "* Create a summary data frame to hold the results\n",
    "\n",
    "\n",
    "* Optional: give the displayed data cleaner formatting\n",
    "\n",
    "\n",
    "* Display the summary data frame\n"
   ]
  },
  {
   "cell_type": "code",
   "execution_count": null,
   "metadata": {
    "scrolled": true
   },
   "outputs": [],
   "source": [
    "itemlist = purchase_data[\"Item Name\"].unique()\n",
    "total_itemlist = len(itemlist)\n",
    "ave_cost = purchase_data[\"Price\"].mean()\n",
    "total_purchases = tnpfull\n",
    "total_revenue = purchase_data[\"Price\"].sum()\n",
    "analysisdata = {\n",
    "    \"Number \\n of Items\": [total_itemlist],\n",
    "    \"Average \\n Cost\": [ave_cost],\n",
    "    \"Total # of Purchases\": [total_purchases],\n",
    "    \"Total Revenue\":[total_revenue]\n",
    "}\n",
    "analysis_df = pd.DataFrame(analysisdata)\n",
    "analysis_df\n",
    "    "
   ]
  },
  {
   "cell_type": "markdown",
   "metadata": {},
   "source": [
    "## Gender Demographics"
   ]
  },
  {
   "cell_type": "markdown",
   "metadata": {},
   "source": [
    "* Percentage and Count of Male Players\n",
    "\n",
    "\n",
    "* Percentage and Count of Female Players\n",
    "\n",
    "\n",
    "* Percentage and Count of Other / Non-Disclosed\n",
    "\n",
    "\n"
   ]
  },
  {
   "cell_type": "code",
   "execution_count": null,
   "metadata": {},
   "outputs": [],
   "source": [
    "male_data = purchase_data.loc[purchase_data[\"Gender\"] == \"Male\",:]\n",
    "female_data = purchase_data.loc[purchase_data[\"Gender\"] == \"Female\",:]\n",
    "other_data = purchase_data.loc[purchase_data[\"Gender\"] == \"Other / Non-Disclosed\",:]\n",
    "\n",
    "male_number = len(male_data[\"SN\"].unique())\n",
    "male_percent = male_number *100/tnp\n",
    "female_number = len(female_data[\"SN\"].unique())\n",
    "female_percent = female_number *100/tnp\n",
    "other_number = len(other_data[\"SN\"].unique())\n",
    "other_percent = other_number *100/tnp\n",
    "total_percent = male_percent + female_percent + other_percent\n",
    "\n",
    "\n",
    "genderdata = [\n",
    "    (\"Male\",male_number,male_percent),\n",
    "    (\"Female\",female_number,female_percent),\n",
    "    (\"Other/Non-Disclosed\",other_number,other_percent)\n",
    "]\n",
    "\n",
    "genderdatadf = pd.DataFrame(genderdata, columns=[\"Gender\",\"Number of Players\",\"Percent of Players\"])\n",
    "genderdatadf\n",
    "\n"
   ]
  },
  {
   "cell_type": "markdown",
   "metadata": {},
   "source": [
    "\n",
    "## Purchasing Analysis (Gender)"
   ]
  },
  {
   "cell_type": "markdown",
   "metadata": {},
   "source": [
    "* Run basic calculations to obtain purchase count, avg. purchase price, avg. purchase total per person etc. by gender\n",
    "\n",
    "\n",
    "\n",
    "\n",
    "* Create a summary data frame to hold the results\n",
    "\n",
    "\n",
    "* Optional: give the displayed data cleaner formatting\n",
    "\n",
    "\n",
    "* Display the summary data frame"
   ]
  },
  {
   "cell_type": "code",
   "execution_count": null,
   "metadata": {},
   "outputs": [],
   "source": [
    "\n",
    "### isnt the purchase count what i just calculated to find the percentage?\n",
    "male_purchase_count = len(male_data)\n",
    "female_purchase_count = len(female_data)\n",
    "other_purchase_count = len(other_data)\n",
    "\n",
    "male_ave_pur_price = male_data[\"Price\"].mean()\n",
    "female_ave_pur_price = female_data[\"Price\"].mean()\n",
    "other_ave_pur_price = other_data[\"Price\"].mean()\n",
    "\n",
    "male_ave_purchase_total = male_data[\"SN\"].value_counts()\n",
    "female_ave_purchase_total =female_data[\"SN\"].value_counts()\n",
    "other_ave_purchase_total = other_data[\"SN\"].value_counts()\n",
    "\n",
    "male_ave_2 = male_ave_purchase_total.mean()\n",
    "female_ave_2 = female_ave_purchase_total.mean()\n",
    "other_ave_2 = other_ave_purchase_total.mean()\n",
    "\n",
    "gender_analysis_data1 = [\n",
    "    (\"Male\",male_purchase_count,male_ave_pur_price,male_data[\"Price\"].sum(),male_ave_2),\n",
    "    (\"Female\",female_purchase_count,female_ave_pur_price,female_data[\"Price\"].sum(),female_ave_2),\n",
    "    (\"Other/Non-Disclosed\",other_purchase_count,other_ave_pur_price,other_data[\"Price\"].sum(),other_ave_2)\n",
    "]\n",
    "\n",
    "gender_analysis_1_df = pd.DataFrame(gender_analysis_data1, columns=[\"Gender\",\"Purchase Count\",\"Average Purchase Price\",\"Total Purchase Value\",\"Average Purcheses per Person\"])\n",
    "gender_analysis_1_df\n",
    "\n"
   ]
  },
  {
   "cell_type": "markdown",
   "metadata": {},
   "source": [
    "## Age Demographics"
   ]
  },
  {
   "cell_type": "markdown",
   "metadata": {},
   "source": [
    "* Establish bins for ages\n",
    "\n",
    "\n",
    "* Categorize the existing players using the age bins. Hint: use pd.cut()\n",
    "\n",
    "\n",
    "* Calculate the numbers and percentages by age group\n",
    "\n",
    "\n",
    "* Create a summary data frame to hold the results\n",
    "\n",
    "\n",
    "* Optional: round the percentage column to two decimal points\n",
    "\n",
    "\n",
    "* Display Age Demographics Table\n"
   ]
  },
  {
   "cell_type": "code",
   "execution_count": null,
   "metadata": {},
   "outputs": [],
   "source": [
    "bins = [0,10,20,30,40,50,60,70]\n",
    "bin_label = [\"0 to 10\",\"10 to 20\",\"20 to 30\",\"30 to 40\",\"40 to 50\",\"50 to 60\",\"60 to 70\"]\n",
    "purchase_data[\"Age Group\"] = pd.cut(purchase_data[\"Age\"], bins, labels=bin_label)\n",
    "purchase_data.head()\n",
    "#zero_ten = purchase_data.loc[purchase_data[\"Age Group\"] == \"0 to 10\",:]\n",
    "bin_groups = purchase_data.groupby(\"Age Group\")\n",
    "\n",
    "zero_data = purchase_data.loc[purchase_data[\"Age Group\"] == \"0 to 10\",:]\n",
    "ten_data = purchase_data.loc[purchase_data[\"Age Group\"] == \"10 to 20\",:]\n",
    "twenty_data = purchase_data.loc[purchase_data[\"Age Group\"] == \"20 to 30\",:]\n",
    "thirty_data = purchase_data.loc[purchase_data[\"Age Group\"] == \"30 to 40\",:]\n",
    "fourty_data = purchase_data.loc[purchase_data[\"Age Group\"] == \"40 to 50\",:]\n",
    "fifty_data = purchase_data.loc[purchase_data[\"Age Group\"] == \"50 to 60\",:]\n",
    "sixty_data = purchase_data.loc[purchase_data[\"Age Group\"] == \"60 to 70\",:]\n",
    "\n",
    "# Find how many rows fall into each bin\n",
    "#print(bin_groups[\"Age Group\"].count())\n",
    "zeroto10p = bin_groups[\"Age Group\"].count().iloc[0]*100/tnpfull\n",
    "tento20p = bin_groups[\"Age Group\"].count().iloc[1]*100/tnpfull\n",
    "twentyto30p = bin_groups[\"Age Group\"].count().iloc[2]*100/tnpfull\n",
    "thirtyto40p = bin_groups[\"Age Group\"].count().iloc[3]*100/tnpfull\n",
    "fourtyto50p = bin_groups[\"Age Group\"].count().iloc[4]*100/tnpfull\n",
    "fiftyto60p = bin_groups[\"Age Group\"].count().iloc[5]*100/tnpfull\n",
    "sixtyto70p = bin_groups[\"Age Group\"].count().iloc[6]*100/tnpfull\n",
    "\n",
    "bindata = [\n",
    "    (\"0-10\",bin_groups[\"Age Group\"].count().iloc[0],zeroto10p),\n",
    "    (\"10-20\",bin_groups[\"Age Group\"].count().iloc[1],tento20p),\n",
    "    (\"20-30\",bin_groups[\"Age Group\"].count().iloc[2],twentyto30p),\n",
    "    (\"30-40\",bin_groups[\"Age Group\"].count().iloc[3],thirtyto40p),\n",
    "    (\"40-50\",bin_groups[\"Age Group\"].count().iloc[4],fourtyto50p),\n",
    "    (\"50-60\",bin_groups[\"Age Group\"].count().iloc[5],fiftyto60p),\n",
    "    (\"60-70\",bin_groups[\"Age Group\"].count().iloc[6],sixtyto70p)\n",
    "]\n",
    "bin_df = pd.DataFrame(bindata, columns=[\"Age Group\",\"# of People in Age Group\",\"% of People in Age Group\"])\n",
    "bin_df"
   ]
  },
  {
   "cell_type": "markdown",
   "metadata": {},
   "source": [
    "## Purchasing Analysis (Age)"
   ]
  },
  {
   "cell_type": "markdown",
   "metadata": {},
   "source": [
    "* Bin the purchase_data data frame by age\n",
    "\n",
    "\n",
    "* Run basic calculations to obtain purchase count, avg. purchase price, avg. purchase total per person etc. in the table below\n",
    "\n",
    "\n",
    "* Create a summary data frame to hold the results\n",
    "\n",
    "\n",
    "* Optional: give the displayed data cleaner formatting\n",
    "\n",
    "\n",
    "* Display the summary data frame"
   ]
  },
  {
   "cell_type": "code",
   "execution_count": null,
   "metadata": {},
   "outputs": [],
   "source": [
    "\n",
    "zerocount = len(zero_data[\"SN\"].unique())\n",
    "tencount = len(ten_data[\"SN\"].unique())\n",
    "twentycount = len(twenty_data[\"SN\"].unique())\n",
    "thirtycount = len(thirty_data[\"SN\"].unique())\n",
    "fourtycount = len(fourty_data[\"SN\"].unique())\n",
    "fiftycount = len(fifty_data[\"SN\"].unique())\n",
    "sixtycount = len(sixty_data[\"SN\"].unique())\n",
    "\n",
    "ave0 = zero_data[\"Price\"].mean()\n",
    "ave10 = ten_data[\"Price\"].mean()\n",
    "ave20 = twenty_data[\"Price\"].mean()\n",
    "ave30 = thirty_data[\"Price\"].mean()\n",
    "ave40 = fourty_data[\"Price\"].mean()\n",
    "ave50 = fifty_data[\"Price\"].mean()\n",
    "ave60 = sixty_data[\"Price\"].mean()\n",
    "\n",
    "ave0per = zero_data[\"SN\"].value_counts().mean()\n",
    "ave10per = ten_data[\"SN\"].value_counts().mean()\n",
    "ave20per = twenty_data[\"SN\"].value_counts().mean()\n",
    "ave30per = thirty_data[\"SN\"].value_counts().mean()\n",
    "ave40per = fourty_data[\"SN\"].value_counts().mean()\n",
    "ave50per = fifty_data[\"SN\"].value_counts().mean()\n",
    "ave60per = sixty_data[\"SN\"].value_counts().mean()\n",
    "\n",
    "bindata = [\n",
    "    (\"0 to 10\",zerocount,ave0,ave0per),\n",
    "    (\"10 to 20\", tencount, ave10,ave10per),\n",
    "    (\"20 to 30\",twentycount,ave20,ave20per),\n",
    "    (\"30 to 40\",thirtycount,ave30,ave30per),\n",
    "    (\"40 to 50\",fourtycount, ave40, ave40per),\n",
    "    (\"50 to 60\",fiftycount,ave50,ave50per),\n",
    "    (\"60 to 70\",sixtycount,ave60,ave60per)\n",
    "]\n",
    "\n",
    "bin2_df = pd.DataFrame(bindata, columns=[\"Age Group\",\"Purchase Count\",\"Average Purchase Price\",\"Average Purchases per Person\"])\n",
    "bin2_df"
   ]
  },
  {
   "cell_type": "markdown",
   "metadata": {},
   "source": [
    "## Top Spenders"
   ]
  },
  {
   "cell_type": "markdown",
   "metadata": {},
   "source": [
    "* Run basic calculations to obtain the results in the table below\n",
    "\n",
    "\n",
    "* Create a summary data frame to hold the results\n",
    "\n",
    "\n",
    "* Sort the total purchase value column in descending order\n",
    "\n",
    "\n",
    "* Optional: give the displayed data cleaner formatting\n",
    "\n",
    "\n",
    "* Display a preview of the summary data frame\n",
    "\n"
   ]
  },
  {
   "cell_type": "code",
   "execution_count": null,
   "metadata": {
    "scrolled": false
   },
   "outputs": [],
   "source": [
    "pricesum[\"pricesum\"] = purchase_data.groupby('SN').Price.sum()\n",
    "ranking[\"pricesum\"] = purchase_data.groupby('SN').Price.sum().rank(axis=0,ascending=False)\n"
   ]
  },
  {
   "cell_type": "code",
   "execution_count": null,
   "metadata": {},
   "outputs": [],
   "source": []
  },
  {
   "cell_type": "markdown",
   "metadata": {},
   "source": [
    "## Most Popular Items"
   ]
  },
  {
   "cell_type": "code",
   "execution_count": null,
   "metadata": {},
   "outputs": [],
   "source": []
  },
  {
   "cell_type": "code",
   "execution_count": null,
   "metadata": {},
   "outputs": [],
   "source": []
  },
  {
   "cell_type": "markdown",
   "metadata": {},
   "source": [
    "* Retrieve the Item ID, Item Name, and Item Price columns\n",
    "\n",
    "\n",
    "* Group by Item ID and Item Name. Perform calculations to obtain purchase count, item price, and total purchase value\n",
    "\n",
    "\n",
    "* Create a summary data frame to hold the results\n",
    "\n",
    "\n",
    "* Sort the purchase count column in descending order\n",
    "\n",
    "\n",
    "* Optional: give the displayed data cleaner formatting\n",
    "\n",
    "\n",
    "* Display a preview of the summary data frame\n",
    "\n"
   ]
  },
  {
   "cell_type": "code",
   "execution_count": null,
   "metadata": {},
   "outputs": [],
   "source": []
  },
  {
   "cell_type": "markdown",
   "metadata": {},
   "source": [
    "## Most Profitable Items"
   ]
  },
  {
   "cell_type": "markdown",
   "metadata": {},
   "source": [
    "* Sort the above table by total purchase value in descending order\n",
    "\n",
    "\n",
    "* Optional: give the displayed data cleaner formatting\n",
    "\n",
    "\n",
    "* Display a preview of the data frame\n",
    "\n"
   ]
  },
  {
   "cell_type": "code",
   "execution_count": null,
   "metadata": {
    "scrolled": true
   },
   "outputs": [],
   "source": [
    "male_data[\"SN\"].value_counts().mean()"
   ]
  },
  {
   "cell_type": "code",
   "execution_count": null,
   "metadata": {},
   "outputs": [],
   "source": []
  }
 ],
 "metadata": {
  "anaconda-cloud": {},
  "kernel_info": {
   "name": "python3"
  },
  "kernelspec": {
   "display_name": "Python 3",
   "language": "python",
   "name": "python3"
  },
  "language_info": {
   "codemirror_mode": {
    "name": "ipython",
    "version": 3
   },
   "file_extension": ".py",
   "mimetype": "text/x-python",
   "name": "python",
   "nbconvert_exporter": "python",
   "pygments_lexer": "ipython3",
   "version": "3.6.8"
  },
  "nteract": {
   "version": "0.2.0"
  }
 },
 "nbformat": 4,
 "nbformat_minor": 2
}
